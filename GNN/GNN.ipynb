{
  "nbformat": 4,
  "nbformat_minor": 0,
  "metadata": {
    "colab": {
      "provenance": [],
      "collapsed_sections": [
        "DB9OsB0SRkct",
        "CFs0u4VKc8gY",
        "mUKsfH9eXXra",
        "eXBRJ8HPYW23",
        "Yzv9CKXn0vDD",
        "1SQ8tjmYNAP5",
        "ofvDL1BvNC1j"
      ],
      "gpuType": "T4"
    },
    "kernelspec": {
      "name": "python3",
      "display_name": "Python 3"
    },
    "language_info": {
      "name": "python"
    },
    "accelerator": "GPU"
  },
  "cells": [
    {
      "cell_type": "markdown",
      "source": [
        "# **NetworkX :**"
      ],
      "metadata": {
        "id": "KlxGaMD1G780"
      }
    },
    {
      "cell_type": "code",
      "source": [
        "!pip install torch-geometric"
      ],
      "metadata": {
        "id": "uyWJk53UdITC",
        "colab": {
          "base_uri": "https://localhost:8080/"
        },
        "outputId": "c1c53bf4-1fbe-4dd3-e63f-0d7e4d269fc6"
      },
      "execution_count": 1,
      "outputs": [
        {
          "output_type": "stream",
          "name": "stdout",
          "text": [
            "Collecting torch-geometric\n",
            "  Downloading torch_geometric-2.3.1.tar.gz (661 kB)\n",
            "\u001b[?25l     \u001b[90m━━━━━━━━━━━━━━━━━━━━━━━━━━━━━━━━━━━━━━━━\u001b[0m \u001b[32m0.0/661.6 kB\u001b[0m \u001b[31m?\u001b[0m eta \u001b[36m-:--:--\u001b[0m\r\u001b[2K     \u001b[91m━━━━\u001b[0m\u001b[91m╸\u001b[0m\u001b[90m━━━━━━━━━━━━━━━━━━━━━━━━━━━━━━━━━━━\u001b[0m \u001b[32m81.9/661.6 kB\u001b[0m \u001b[31m2.5 MB/s\u001b[0m eta \u001b[36m0:00:01\u001b[0m\r\u001b[2K     \u001b[91m━━━━━━━━━━━━━━━━━━━━━━━━━━━━━━━━━\u001b[0m\u001b[91m╸\u001b[0m\u001b[90m━━━━━\u001b[0m \u001b[32m573.4/661.6 kB\u001b[0m \u001b[31m8.6 MB/s\u001b[0m eta \u001b[36m0:00:01\u001b[0m\r\u001b[2K     \u001b[90m━━━━━━━━━━━━━━━━━━━━━━━━━━━━━━━━━━━━━━━\u001b[0m \u001b[32m661.6/661.6 kB\u001b[0m \u001b[31m7.4 MB/s\u001b[0m eta \u001b[36m0:00:00\u001b[0m\n",
            "\u001b[?25h  Installing build dependencies ... \u001b[?25l\u001b[?25hdone\n",
            "  Getting requirements to build wheel ... \u001b[?25l\u001b[?25hdone\n",
            "  Preparing metadata (pyproject.toml) ... \u001b[?25l\u001b[?25hdone\n",
            "Requirement already satisfied: tqdm in /usr/local/lib/python3.10/dist-packages (from torch-geometric) (4.65.0)\n",
            "Requirement already satisfied: numpy in /usr/local/lib/python3.10/dist-packages (from torch-geometric) (1.22.4)\n",
            "Requirement already satisfied: scipy in /usr/local/lib/python3.10/dist-packages (from torch-geometric) (1.10.1)\n",
            "Requirement already satisfied: jinja2 in /usr/local/lib/python3.10/dist-packages (from torch-geometric) (3.1.2)\n",
            "Requirement already satisfied: requests in /usr/local/lib/python3.10/dist-packages (from torch-geometric) (2.27.1)\n",
            "Requirement already satisfied: pyparsing in /usr/local/lib/python3.10/dist-packages (from torch-geometric) (3.1.0)\n",
            "Requirement already satisfied: scikit-learn in /usr/local/lib/python3.10/dist-packages (from torch-geometric) (1.2.2)\n",
            "Requirement already satisfied: psutil>=5.8.0 in /usr/local/lib/python3.10/dist-packages (from torch-geometric) (5.9.5)\n",
            "Requirement already satisfied: MarkupSafe>=2.0 in /usr/local/lib/python3.10/dist-packages (from jinja2->torch-geometric) (2.1.3)\n",
            "Requirement already satisfied: urllib3<1.27,>=1.21.1 in /usr/local/lib/python3.10/dist-packages (from requests->torch-geometric) (1.26.16)\n",
            "Requirement already satisfied: certifi>=2017.4.17 in /usr/local/lib/python3.10/dist-packages (from requests->torch-geometric) (2023.7.22)\n",
            "Requirement already satisfied: charset-normalizer~=2.0.0 in /usr/local/lib/python3.10/dist-packages (from requests->torch-geometric) (2.0.12)\n",
            "Requirement already satisfied: idna<4,>=2.5 in /usr/local/lib/python3.10/dist-packages (from requests->torch-geometric) (3.4)\n",
            "Requirement already satisfied: joblib>=1.1.1 in /usr/local/lib/python3.10/dist-packages (from scikit-learn->torch-geometric) (1.3.1)\n",
            "Requirement already satisfied: threadpoolctl>=2.0.0 in /usr/local/lib/python3.10/dist-packages (from scikit-learn->torch-geometric) (3.2.0)\n",
            "Building wheels for collected packages: torch-geometric\n",
            "  Building wheel for torch-geometric (pyproject.toml) ... \u001b[?25l\u001b[?25hdone\n",
            "  Created wheel for torch-geometric: filename=torch_geometric-2.3.1-py3-none-any.whl size=910454 sha256=46b2b705bd3dc0deab05740762f1617878cdce7eaff6ecacb2df0e73f5068173\n",
            "  Stored in directory: /root/.cache/pip/wheels/ac/dc/30/e2874821ff308ee67dcd7a66dbde912411e19e35a1addda028\n",
            "Successfully built torch-geometric\n",
            "Installing collected packages: torch-geometric\n",
            "Successfully installed torch-geometric-2.3.1\n"
          ]
        }
      ]
    },
    {
      "cell_type": "code",
      "source": [
        "import networkx as nx\n",
        "\n",
        "G = nx.Graph()\n",
        "print(G.is_directed())\n",
        "\n",
        "H = nx.DiGraph()\n",
        "print(H.is_directed())\n",
        "\n",
        "#------------------------------------------------------------------------------\n",
        "\n",
        "G.add_nodes_from([\n",
        "    (1, {\"feature\": 1, \"label\": 1}),\n",
        "    (2, {\"feature\": 2, \"label\": 2})\n",
        "])\n",
        "\n",
        "G.add_edge(0, 1, weight=0.5)\n",
        "G.add_edges_from([\n",
        "    (1, 2, {\"weight\": 0.3}),\n",
        "    (2, 0, {\"weight\": 0.1})\n",
        "])\n",
        "\n",
        "nodes_attr = G.nodes[0]\n",
        "edge_0_1_attr = G.edges[(0, 1)]\n",
        "\n",
        "#------------------------------------------------------------------------------\n",
        "\n",
        "num_nodes = G.number_of_nodes()\n",
        "num_edges = G.number_of_edges()\n",
        "\n",
        "nx.draw(G, with_labels = True)\n",
        "\n",
        "node_id = 1\n",
        "print(G.degree(node_id))\n",
        "print(list(G.neighbors(node_id)))"
      ],
      "metadata": {
        "colab": {
          "base_uri": "https://localhost:8080/",
          "height": 588
        },
        "id": "CBIznhIN1E_b",
        "outputId": "69f3c7fa-114c-4a69-c622-bfb05793474f"
      },
      "execution_count": 2,
      "outputs": [
        {
          "output_type": "stream",
          "name": "stdout",
          "text": [
            "False\n",
            "True\n",
            "2\n",
            "[0, 2]\n"
          ]
        },
        {
          "output_type": "display_data",
          "data": {
            "text/plain": [
              "<Figure size 640x480 with 1 Axes>"
            ],
            "image/png": "[encoded data removed]"
          },
          "metadata": {}
        }
      ]
    },
    {
      "cell_type": "code",
      "source": [
        "import networkx as nx\n",
        "\n",
        "G = nx.Graph()\n",
        "G.add_edges_from([('A', 'B', {\"weight\": 10}), ('A', 'C', {\"weight\": 20}),\n",
        "                   ('B', 'D', {\"weight\": 30}), ('B', 'E', {\"weight\": 40}),\n",
        "                   ('C', 'F', {\"weight\": 50}), ('C', 'G', {\"weight\": 60})])\n",
        "\n",
        "DG = nx.DiGraph()\n",
        "DG.add_edges_from([('A', 'B', {\"weight\": 10}), ('A', 'C', {\"weight\": 20}),\n",
        "                   ('B', 'D', {\"weight\": 30}), ('B', 'E', {\"weight\": 40}),\n",
        "                   ('C', 'F', {\"weight\": 50}), ('C', 'G', {\"weight\": 60})])\n",
        "\n",
        "G_labels = nx.get_edge_attributes(G, \"weight\")\n",
        "DG_labels = nx.get_edge_attributes(DG, \"weight\")\n",
        "\n",
        "nx.draw_networkx(G)\n",
        "nx.draw_networkx_edge_labels(G, pos=nx.spring_layout(G, seed=0), edge_labels=G_labels)\n",
        "\n",
        "'''\n",
        "nx.draw_networkx(DG)\n",
        "nx.draw_networkx_edge_labels(DG, pos=nx.spring_layout(DG, seed=0), edge_labels=DG_labels)\n",
        "'''"
      ],
      "metadata": {
        "colab": {
          "base_uri": "https://localhost:8080/",
          "height": 425
        },
        "id": "KQI_szA1Hh2D",
        "outputId": "d5217a09-8bfe-410b-94b9-70e7b6af4d2c"
      },
      "execution_count": 3,
      "outputs": [
        {
          "output_type": "execute_result",
          "data": {
            "text/plain": [
              "'\\nnx.draw_networkx(DG)\\nnx.draw_networkx_edge_labels(DG, pos=nx.spring_layout(DG, seed=0), edge_labels=DG_labels)\\n'"
            ],
            "application/vnd.google.colaboratory.intrinsic+json": {
              "type": "string"
            }
          },
          "metadata": {},
          "execution_count": 3
        },
        {
          "output_type": "display_data",
          "data": {
            "text/plain": [
              "<Figure size 640x480 with 1 Axes>"
            ],
            "image/png": "[encoded data removed]"
          },
          "metadata": {}
        }
      ]
    },
    {
      "cell_type": "code",
      "source": [
        "print(nx.is_connected(G))\n",
        "print(f\"deg(A) = {G.degree['A']}\")\n",
        "print(f\"deg^-(A) = {DG.in_degree['A']}\")\n",
        "print(f\"deg^+(A) = {DG.out_degree['A']}\")\n",
        "print(f\"Degree centrality      = {nx.degree_centrality(G)}\")\n",
        "print(f\"Closeness centrality   = {nx.closeness_centrality(G)}\")\n",
        "print(f\"Betweenness centrality = {nx.betweenness_centrality(G)}\")"
      ],
      "metadata": {
        "id": "kEB2LAz-Oiqz",
        "colab": {
          "base_uri": "https://localhost:8080/"
        },
        "outputId": "c3279f5c-0554-4580-d677-ede1be597218"
      },
      "execution_count": 4,
      "outputs": [
        {
          "output_type": "stream",
          "name": "stdout",
          "text": [
            "True\n",
            "deg(A) = 2\n",
            "deg^-(A) = 0\n",
            "deg^+(A) = 2\n",
            "Degree centrality      = {'A': 0.3333333333333333, 'B': 0.5, 'C': 0.5, 'D': 0.16666666666666666, 'E': 0.16666666666666666, 'F': 0.16666666666666666, 'G': 0.16666666666666666}\n",
            "Closeness centrality   = {'A': 0.6, 'B': 0.5454545454545454, 'C': 0.5454545454545454, 'D': 0.375, 'E': 0.375, 'F': 0.375, 'G': 0.375}\n",
            "Betweenness centrality = {'A': 0.6, 'B': 0.6, 'C': 0.6, 'D': 0.0, 'E': 0.0, 'F': 0.0, 'G': 0.0}\n"
          ]
        }
      ]
    },
    {
      "cell_type": "markdown",
      "source": [
        "# **Walks :**"
      ],
      "metadata": {
        "id": "DB9OsB0SRkct"
      }
    },
    {
      "cell_type": "markdown",
      "source": [
        "## **Random Walks :**"
      ],
      "metadata": {
        "id": "CFs0u4VKc8gY"
      }
    },
    {
      "cell_type": "code",
      "source": [
        "G = nx.erdos_renyi_graph(10, 0.3, seed=1, directed=False)\n",
        "nx.draw_networkx(G)"
      ],
      "metadata": {
        "id": "y6_Z3OJmVVRb",
        "colab": {
          "base_uri": "https://localhost:8080/",
          "height": 406
        },
        "outputId": "7e44998a-8a8a-4568-d064-8a3bc47b57e4"
      },
      "execution_count": 5,
      "outputs": [
        {
          "output_type": "display_data",
          "data": {
            "text/plain": [
              "<Figure size 640x480 with 1 Axes>"
            ],
            "image/png": "[encoded data removed]"
          },
          "metadata": {}
        }
      ]
    },
    {
      "cell_type": "code",
      "source": [
        "import numpy as np\n",
        "import random\n",
        "random.seed(0)\n",
        "\n",
        "print(list(G[0]))\n",
        "print(list(G.neighbors(0)))\n",
        "\n",
        "def random_walk(start, length):\n",
        "    walk = [start]  # starting node\n",
        "\n",
        "    for i in range(length):\n",
        "        neighbors = list(G[0])\n",
        "        next_node = random.choice(neighbors)\n",
        "        walk.append(next_node)\n",
        "        start = next_node\n",
        "\n",
        "    return walk\n",
        "\n",
        "# Create a list of random walks\n",
        "print(random_walk(0, 10))"
      ],
      "metadata": {
        "id": "s6bHbItuRySf",
        "colab": {
          "base_uri": "https://localhost:8080/"
        },
        "outputId": "8c0a74e8-8b17-446b-fb3d-e1c6154301f4"
      },
      "execution_count": 6,
      "outputs": [
        {
          "output_type": "stream",
          "name": "stdout",
          "text": [
            "[1, 4, 9]\n",
            "[1, 4, 9]\n",
            "[0, 4, 4, 1, 4, 9, 4, 4, 4, 4, 4]\n"
          ]
        }
      ]
    },
    {
      "cell_type": "code",
      "source": [
        "G = nx.karate_club_graph()\n",
        "print(G.nodes[1])\n",
        "\n",
        "labels = []\n",
        "for node in G.nodes:\n",
        "    label = G.nodes[node]['club']\n",
        "    labels.append(1 if label == 'Officer' else 0)\n",
        "\n",
        "nx.draw_networkx(G)\n",
        "\n",
        "walks = []\n",
        "for node in G.nodes:\n",
        "    for _ in range(80):\n",
        "        walks.append(random_walk(node, 10))\n",
        "\n",
        "\n",
        "print(walks[0])"
      ],
      "metadata": {
        "colab": {
          "base_uri": "https://localhost:8080/",
          "height": 442
        },
        "id": "rly8dSexWuyw",
        "outputId": "9b2f6dd8-2f1b-42ff-c08b-65516ea87212"
      },
      "execution_count": 7,
      "outputs": [
        {
          "output_type": "stream",
          "name": "stdout",
          "text": [
            "{'club': 'Mr. Hi'}\n",
            "[0, 7, 5, 11, 5, 4, 10, 5, 11, 4, 3]\n"
          ]
        },
        {
          "output_type": "display_data",
          "data": {
            "text/plain": [
              "<Figure size 640x480 with 1 Axes>"
            ],
            "image/png": "[encoded data removed]"
          },
          "metadata": {}
        }
      ]
    },
    {
      "cell_type": "markdown",
      "source": [
        "## **Biased Random Walk :**"
      ],
      "metadata": {
        "id": "mUKsfH9eXXra"
      }
    },
    {
      "cell_type": "code",
      "source": [
        "import random\n",
        "random.seed(0)\n",
        "import numpy as np\n",
        "np.random.seed(0)\n",
        "\n",
        "def next_node(previous, current, p, q):\n",
        "    alphas = []\n",
        "    neighbors = list(G[current])\n",
        "\n",
        "    for neighbor in neighbors:\n",
        "        if neighbor == previous:\n",
        "            alpha = 1/p\n",
        "        elif G.has_edge(neighbor, previous):\n",
        "            alpha = 1\n",
        "        else:\n",
        "            alpha = 1/q\n",
        "        alphas.append(alpha)\n",
        "\n",
        "    # Normalize the alpha values to create transition probabilities\n",
        "    probs = [alpha / sum(alphas) for alpha in alphas]\n",
        "\n",
        "    next = np.random.choice(neighbors, size=1, p=probs)[0]\n",
        "    return next\n",
        "\n",
        "\n",
        "def random_walk(start, length, p, q):\n",
        "    walk = [start]\n",
        "\n",
        "    for i in range(length):\n",
        "        current = walk[-1]\n",
        "        previous = walk[-2] if len(walk) > 1 else None\n",
        "        next = next_node(previous, current, p, q)\n",
        "        walk.append(next)\n",
        "\n",
        "    return walk\n",
        "\n",
        "\n",
        "random_walk(0, 8, p=1, q=1)"
      ],
      "metadata": {
        "colab": {
          "base_uri": "https://localhost:8080/"
        },
        "id": "RHkkDEkZXXQX",
        "outputId": "cdbcf21f-70d9-4484-cb10-06c9843610d1"
      },
      "execution_count": 8,
      "outputs": [
        {
          "output_type": "execute_result",
          "data": {
            "text/plain": [
              "[0, 10, 5, 10, 4, 6, 5, 6, 16]"
            ]
          },
          "metadata": {},
          "execution_count": 8
        }
      ]
    },
    {
      "cell_type": "markdown",
      "source": [
        "# **GNNs :**"
      ],
      "metadata": {
        "id": "eXBRJ8HPYW23"
      }
    },
    {
      "cell_type": "markdown",
      "source": [
        "## **Import the libraries and Load the dataset :**"
      ],
      "metadata": {
        "id": "F5RC9UND5de8"
      }
    },
    {
      "cell_type": "code",
      "source": [
        "import torch\n",
        "import torch.nn as nn\n",
        "import torch.nn.functional as F\n",
        "from torch_geometric.datasets import Planetoid\n",
        "from torch_geometric.utils import to_dense_adj, degree, to_networkx\n",
        "from torch_geometric.nn import GCNConv, GATv2Conv, SAGEConv\n",
        "\n",
        "\n",
        "torch.manual_seed(0)"
      ],
      "metadata": {
        "id": "kz9VkjXuly8V",
        "colab": {
          "base_uri": "https://localhost:8080/"
        },
        "outputId": "7e729cf3-acca-4191-edfc-0b0189dd3f66"
      },
      "execution_count": 9,
      "outputs": [
        {
          "output_type": "execute_result",
          "data": {
            "text/plain": [
              "<torch._C.Generator at 0x7f0130070e70>"
            ]
          },
          "metadata": {},
          "execution_count": 9
        }
      ]
    },
    {
      "cell_type": "code",
      "source": [
        "# Import dataset from PyTorch Geometric\n",
        "\n",
        "dataset = Planetoid(root=\".\", name=\"Cora\")\n",
        "data = dataset[0]"
      ],
      "metadata": {
        "colab": {
          "base_uri": "https://localhost:8080/"
        },
        "id": "WQltTyVr5jSG",
        "outputId": "f9ecb966-06eb-4386-aff0-fb5f0880b65f"
      },
      "execution_count": 10,
      "outputs": [
        {
          "output_type": "stream",
          "name": "stderr",
          "text": [
            "Downloading https://github.com/kimiyoung/planetoid/raw/master/data/ind.cora.x\n",
            "Downloading https://github.com/kimiyoung/planetoid/raw/master/data/ind.cora.tx\n",
            "Downloading https://github.com/kimiyoung/planetoid/raw/master/data/ind.cora.allx\n",
            "Downloading https://github.com/kimiyoung/planetoid/raw/master/data/ind.cora.y\n",
            "Downloading https://github.com/kimiyoung/planetoid/raw/master/data/ind.cora.ty\n",
            "Downloading https://github.com/kimiyoung/planetoid/raw/master/data/ind.cora.ally\n",
            "Downloading https://github.com/kimiyoung/planetoid/raw/master/data/ind.cora.graph\n",
            "Downloading https://github.com/kimiyoung/planetoid/raw/master/data/ind.cora.test.index\n",
            "Processing...\n",
            "Done!\n"
          ]
        }
      ]
    },
    {
      "cell_type": "code",
      "source": [
        "# Print information about the dataset\n",
        "print(f'Dataset: {dataset}')\n",
        "print(f'Number of graphs: {len(dataset)}')\n",
        "print(f'Number of nodes: {data.x.shape[0]}')\n",
        "print(f'Number of features: {dataset.num_features}')\n",
        "print(f'Number of classes: {dataset.num_classes}')\n",
        "\n",
        "# Print information about the graph\n",
        "print(f'\\nGraph:')\n",
        "print(f'Edges are directed: {data.is_directed()}')\n",
        "print(f'Graph has isolated nodes: {data.has_isolated_nodes()}')\n",
        "print(f'Graph has loops: {data.has_self_loops()}')\n",
        "\n",
        "degrees = degree(data.edge_index[0]).numpy()    # list of degrees for each node\n",
        "\n",
        "\n",
        "# Adjacency matrix\n",
        "adjacency = to_dense_adj(data.edge_index)[0]\n",
        "adjacency += torch.eye(len(adjacency))\n",
        "print('\\nAdjacency matrix :\\n', adjacency)"
      ],
      "metadata": {
        "colab": {
          "base_uri": "https://localhost:8080/"
        },
        "id": "QSyrIwFg5mUY",
        "outputId": "5c9453a1-3a0f-446a-bcc6-63a084915a3c"
      },
      "execution_count": 11,
      "outputs": [
        {
          "output_type": "stream",
          "name": "stdout",
          "text": [
            "Dataset: Cora()\n",
            "Number of graphs: 1\n",
            "Number of nodes: 2708\n",
            "Number of features: 1433\n",
            "Number of classes: 7\n",
            "\n",
            "Graph:\n",
            "Edges are directed: False\n",
            "Graph has isolated nodes: False\n",
            "Graph has loops: False\n",
            "\n",
            "Adjacency matrix :\n",
            " tensor([[1., 0., 0.,  ..., 0., 0., 0.],\n",
            "        [0., 1., 1.,  ..., 0., 0., 0.],\n",
            "        [0., 1., 1.,  ..., 0., 0., 0.],\n",
            "        ...,\n",
            "        [0., 0., 0.,  ..., 1., 0., 0.],\n",
            "        [0., 0., 0.,  ..., 0., 1., 1.],\n",
            "        [0., 0., 0.,  ..., 0., 1., 1.]])\n"
          ]
        }
      ]
    },
    {
      "cell_type": "code",
      "source": [
        "def accuracy(y_pred, y_true):\n",
        "    return torch.sum(y_pred == y_true) / len(y_true)\n",
        "\n",
        "def leaky_relu(x, alpha=0.2):\n",
        "    return np.maximum(alpha*x, x)"
      ],
      "metadata": {
        "id": "u0gQ4H1t5y_s"
      },
      "execution_count": 12,
      "outputs": []
    },
    {
      "cell_type": "markdown",
      "source": [
        "## **MLP :**"
      ],
      "metadata": {
        "id": "Gqz3Y8QX5tBE"
      }
    },
    {
      "cell_type": "code",
      "source": [
        "class MLP(torch.nn.Module):\n",
        "    def __init__(self, dim_in, dim_h, dim_out):\n",
        "        super().__init__()\n",
        "        self.linear1 = nn.Linear(dim_in, dim_h)\n",
        "        self.linear2 = nn.Linear(dim_h, dim_out)\n",
        "\n",
        "    def forward(self, x):\n",
        "        x = self.linear1(x)\n",
        "        x = torch.relu(x)\n",
        "        x = self.linear2(x)\n",
        "        return F.log_softmax(x, dim=1)\n",
        "\n",
        "    def fit(self, data, epochs):\n",
        "        criterion = nn.CrossEntropyLoss()\n",
        "        optimizer = torch.optim.Adam(self.parameters(),\n",
        "                                          lr=0.01,\n",
        "                                          weight_decay=1e-3)\n",
        "\n",
        "        self.train()\n",
        "        for epoch in range(epochs+1):\n",
        "            optimizer.zero_grad()\n",
        "            out = self(data.x)\n",
        "            loss = criterion(out[data.train_mask], data.y[data.train_mask])\n",
        "            acc = accuracy(out[data.train_mask].argmax(dim=1),\n",
        "                          data.y[data.train_mask])\n",
        "            loss.backward()\n",
        "            optimizer.step()\n",
        "\n",
        "            if(epoch % 20 == 0):\n",
        "                val_loss = criterion(out[data.val_mask], data.y[data.val_mask])\n",
        "                val_acc = accuracy(out[data.val_mask].argmax(dim=1),\n",
        "                                  data.y[data.val_mask])\n",
        "                print(f'Epoch {epoch} | Train Loss: {loss:.3f} | Train Acc:'\n",
        "                      f'{acc*100:.2f}% | Val Loss: {val_loss:.2f} | '\n",
        "                      f'Val Acc: {val_acc*100:.2f}%')\n",
        "\n",
        "    @torch.no_grad()\n",
        "    def test(self, data):\n",
        "        self.eval()\n",
        "        out = self(data.x)\n",
        "        acc = accuracy(out.argmax(dim=1)[data.test_mask], data.y[data.test_mask])\n",
        "        return acc"
      ],
      "metadata": {
        "id": "_GSiCtaieSDQ"
      },
      "execution_count": 13,
      "outputs": []
    },
    {
      "cell_type": "code",
      "source": [
        "mlp = MLP(dataset.num_features, 16, dataset.num_classes)\n",
        "print(mlp)\n",
        "mlp.fit(data, epochs=100)\n",
        "acc = mlp.test(data)\n",
        "print(f'\\nMLP test accuracy: {acc*100:.2f}%\\n')"
      ],
      "metadata": {
        "colab": {
          "base_uri": "https://localhost:8080/"
        },
        "id": "c_lrwnXK56MA",
        "outputId": "6851858b-87ad-46e3-b754-2f41ce2ceb29"
      },
      "execution_count": 14,
      "outputs": [
        {
          "output_type": "stream",
          "name": "stdout",
          "text": [
            "MLP(\n",
            "  (linear1): Linear(in_features=1433, out_features=16, bias=True)\n",
            "  (linear2): Linear(in_features=16, out_features=7, bias=True)\n",
            ")\n",
            "Epoch 0 | Train Loss: 1.959 | Train Acc:14.29% | Val Loss: 2.00 | Val Acc: 12.40%\n",
            "Epoch 20 | Train Loss: 0.112 | Train Acc:100.00% | Val Loss: 1.46 | Val Acc: 50.20%\n",
            "Epoch 40 | Train Loss: 0.016 | Train Acc:100.00% | Val Loss: 1.40 | Val Acc: 53.40%\n",
            "Epoch 60 | Train Loss: 0.015 | Train Acc:100.00% | Val Loss: 1.34 | Val Acc: 54.40%\n",
            "Epoch 80 | Train Loss: 0.016 | Train Acc:100.00% | Val Loss: 1.32 | Val Acc: 56.00%\n",
            "Epoch 100 | Train Loss: 0.015 | Train Acc:100.00% | Val Loss: 1.31 | Val Acc: 56.80%\n",
            "\n",
            "MLP test accuracy: 55.60%\n",
            "\n"
          ]
        }
      ]
    },
    {
      "cell_type": "markdown",
      "source": [
        "## **GCN :**"
      ],
      "metadata": {
        "id": "Y6L-iAh95-xT"
      }
    },
    {
      "cell_type": "code",
      "source": [
        "class GCN(torch.nn.Module):\n",
        "    \"\"\"Graph Convolutional Network\"\"\"\n",
        "    def __init__(self, dim_in, dim_h, dim_out):\n",
        "        super().__init__()\n",
        "        self.gcn1 = GCNConv(dim_in, dim_h)\n",
        "        self.gcn2 = GCNConv(dim_h, dim_out)\n",
        "\n",
        "    def forward(self, x, edge_index):\n",
        "        h = self.gcn1(x, edge_index)\n",
        "        h = torch.relu(h)\n",
        "        h = self.gcn2(h, edge_index)\n",
        "        return F.log_softmax(h, dim=1)\n",
        "\n",
        "    def fit(self, data, epochs):\n",
        "        criterion = torch.nn.CrossEntropyLoss()\n",
        "        optimizer = torch.optim.Adam(self.parameters(),\n",
        "                                      lr=0.01,\n",
        "                                      weight_decay=5e-4)\n",
        "\n",
        "        self.train()\n",
        "        for epoch in range(epochs+1):\n",
        "            optimizer.zero_grad()\n",
        "            out = self(data.x, data.edge_index)\n",
        "            loss = criterion(out[data.train_mask], data.y[data.train_mask])\n",
        "            acc = accuracy(out[data.train_mask].argmax(dim=1),\n",
        "                          data.y[data.train_mask])\n",
        "            loss.backward()\n",
        "            optimizer.step()\n",
        "\n",
        "            if(epoch % 20 == 0):\n",
        "                val_loss = criterion(out[data.val_mask], data.y[data.val_mask])\n",
        "                val_acc = accuracy(out[data.val_mask].argmax(dim=1),\n",
        "                                  data.y[data.val_mask])\n",
        "                print(f'Epoch {epoch:>3} | Train Loss: {loss:.3f} | Train Acc:'\n",
        "                      f' {acc*100:>5.2f}% | Val Loss: {val_loss:.2f} | '\n",
        "                      f'Val Acc: {val_acc*100:.2f}%')\n",
        "\n",
        "    @torch.no_grad()\n",
        "    def test(self, data):\n",
        "        self.eval()\n",
        "        out = self(data.x, data.edge_index)\n",
        "        acc = accuracy(out.argmax(dim=1)[data.test_mask], data.y[data.test_mask])\n",
        "        return acc"
      ],
      "metadata": {
        "id": "phjmNor0l-5L"
      },
      "execution_count": 15,
      "outputs": []
    },
    {
      "cell_type": "code",
      "source": [
        "gcn = GCN(dataset.num_features, 16, dataset.num_classes)\n",
        "print(gcn)\n",
        "gcn.fit(data, epochs=100)\n",
        "acc = gcn.test(data)\n",
        "print(f'\\nGCN test accuracy: {acc*100:.2f}%\\n')"
      ],
      "metadata": {
        "colab": {
          "base_uri": "https://localhost:8080/"
        },
        "id": "hpZPtwC86F_n",
        "outputId": "3d89ffbe-f5b7-4693-e4b5-f6122593116f"
      },
      "execution_count": 16,
      "outputs": [
        {
          "output_type": "stream",
          "name": "stdout",
          "text": [
            "GCN(\n",
            "  (gcn1): GCNConv(1433, 16)\n",
            "  (gcn2): GCNConv(16, 7)\n",
            ")\n",
            "Epoch   0 | Train Loss: 1.944 | Train Acc: 12.14% | Val Loss: 1.91 | Val Acc: 31.00%\n",
            "Epoch  20 | Train Loss: 0.102 | Train Acc: 100.00% | Val Loss: 0.73 | Val Acc: 78.00%\n",
            "Epoch  40 | Train Loss: 0.015 | Train Acc: 100.00% | Val Loss: 0.70 | Val Acc: 77.40%\n",
            "Epoch  60 | Train Loss: 0.015 | Train Acc: 100.00% | Val Loss: 0.69 | Val Acc: 77.00%\n",
            "Epoch  80 | Train Loss: 0.017 | Train Acc: 100.00% | Val Loss: 0.69 | Val Acc: 77.40%\n",
            "Epoch 100 | Train Loss: 0.016 | Train Acc: 100.00% | Val Loss: 0.69 | Val Acc: 77.60%\n",
            "\n",
            "GCN test accuracy: 81.40%\n",
            "\n"
          ]
        }
      ]
    },
    {
      "cell_type": "markdown",
      "source": [
        "## **GraphSage :**"
      ],
      "metadata": {
        "id": "-ya5EhO86IBp"
      }
    },
    {
      "cell_type": "code",
      "source": [
        "class GraphSAGE(torch.nn.Module):\n",
        "    \"\"\"GraphSAGE\"\"\"\n",
        "    def __init__(self, dim_in, dim_h, dim_out):\n",
        "        super().__init__()\n",
        "        self.sage1 = SAGEConv(dim_in, dim_h)\n",
        "        self.sage2 = SAGEConv(dim_h, dim_out)\n",
        "\n",
        "    def forward(self, x, edge_index):\n",
        "        h = self.sage1(x, edge_index)\n",
        "        h = torch.relu(h)\n",
        "        h = F.dropout(h, p=0.5, training=self.training)\n",
        "        h = self.sage2(h, edge_index)\n",
        "        return h\n",
        "\n",
        "    def fit(self, loader, epochs):\n",
        "        criterion = torch.nn.CrossEntropyLoss()\n",
        "        optimizer = torch.optim.Adam(self.parameters(), lr=0.01)\n",
        "\n",
        "        for epoch in range(epochs+1):\n",
        "            optimizer.zero_grad()\n",
        "            out = self(data.x, data.edge_index)\n",
        "            loss = criterion(out[data.train_mask], data.y[data.train_mask])\n",
        "            acc = accuracy(out[data.train_mask].argmax(dim=1), data.y[data.train_mask])\n",
        "            loss.backward()\n",
        "            optimizer.step()\n",
        "\n",
        "            if(epoch % 20 == 0):\n",
        "                val_loss = criterion(out[data.val_mask], data.y[data.val_mask])\n",
        "                val_acc = accuracy(out[data.val_mask].argmax(dim=1), data.y[data.val_mask])\n",
        "                print(f'Epoch {epoch:>3} | Train Loss: {loss:.3f} | Train Acc: {acc*100:>5.2f}% | Val Loss: {val_loss:.2f} | Val Acc: {val_acc*100:.2f}%')\n",
        "\n",
        "    @torch.no_grad()\n",
        "    def test(self, data):\n",
        "        self.eval()\n",
        "        out = self(data.x, data.edge_index)\n",
        "        acc = accuracy(out.argmax(dim=1)[data.test_mask], data.y[data.test_mask])\n",
        "        return acc"
      ],
      "metadata": {
        "id": "BEKc9ksfoGDf"
      },
      "execution_count": 17,
      "outputs": []
    },
    {
      "cell_type": "code",
      "source": [
        "graphsage = GraphSAGE(dataset.num_features, 64, dataset.num_classes)\n",
        "print(graphsage)\n",
        "graphsage.fit(data, 100)\n",
        "acc = graphsage.test(data)\n",
        "print(f'GraphSAGE test accuracy: {acc*100:.2f}%')"
      ],
      "metadata": {
        "colab": {
          "base_uri": "https://localhost:8080/"
        },
        "id": "JuV1p7LR6RRM",
        "outputId": "a40258fd-0b0e-4769-e89b-b704d351a4cd"
      },
      "execution_count": 18,
      "outputs": [
        {
          "output_type": "stream",
          "name": "stdout",
          "text": [
            "GraphSAGE(\n",
            "  (sage1): SAGEConv(1433, 64, aggr=mean)\n",
            "  (sage2): SAGEConv(64, 7, aggr=mean)\n",
            ")\n",
            "Epoch   0 | Train Loss: 1.948 | Train Acc: 14.29% | Val Loss: 1.95 | Val Acc: 17.00%\n",
            "Epoch  20 | Train Loss: 0.000 | Train Acc: 100.00% | Val Loss: 1.48 | Val Acc: 70.20%\n",
            "Epoch  40 | Train Loss: 0.000 | Train Acc: 100.00% | Val Loss: 1.85 | Val Acc: 72.00%\n",
            "Epoch  60 | Train Loss: 0.000 | Train Acc: 100.00% | Val Loss: 1.91 | Val Acc: 71.00%\n",
            "Epoch  80 | Train Loss: 0.000 | Train Acc: 100.00% | Val Loss: 1.58 | Val Acc: 74.00%\n",
            "Epoch 100 | Train Loss: 0.000 | Train Acc: 100.00% | Val Loss: 1.62 | Val Acc: 74.00%\n",
            "GraphSAGE test accuracy: 78.30%\n"
          ]
        }
      ]
    },
    {
      "cell_type": "markdown",
      "source": [
        "## **GAT :**"
      ],
      "metadata": {
        "id": "S-1Pdkoi6SKm"
      }
    },
    {
      "cell_type": "code",
      "source": [
        "class GAT(torch.nn.Module):\n",
        "    def __init__(self, dim_in, dim_h, dim_out, heads=8):\n",
        "        super().__init__()\n",
        "        self.gat1 = GATv2Conv(dim_in, dim_h, heads=heads)\n",
        "        self.gat2 = GATv2Conv(dim_h*heads, dim_out, heads=1)\n",
        "\n",
        "    def forward(self, x, edge_index):\n",
        "        h = F.dropout(x, p=0.6, training=self.training)\n",
        "        h = self.gat1(h, edge_index)\n",
        "        h = F.elu(h)\n",
        "        h = F.dropout(h, p=0.6, training=self.training)\n",
        "        h = self.gat2(h, edge_index)\n",
        "        return F.log_softmax(h, dim=1)\n",
        "\n",
        "    def fit(self, data, epochs):\n",
        "        criterion = torch.nn.CrossEntropyLoss()\n",
        "        optimizer = torch.optim.Adam(self.parameters(), lr=0.01, weight_decay=0.01)\n",
        "\n",
        "        self.train()\n",
        "        for epoch in range(epochs+1):\n",
        "            optimizer.zero_grad()\n",
        "            out = self(data.x, data.edge_index)\n",
        "            loss = criterion(out[data.train_mask], data.y[data.train_mask])\n",
        "            acc = accuracy(out[data.train_mask].argmax(dim=1), data.y[data.train_mask])\n",
        "            loss.backward()\n",
        "            optimizer.step()\n",
        "\n",
        "            if(epoch % 20 == 0):\n",
        "                val_loss = criterion(out[data.val_mask], data.y[data.val_mask])\n",
        "                val_acc = accuracy(out[data.val_mask].argmax(dim=1), data.y[data.val_mask])\n",
        "                print(f'Epoch {epoch:>3} | Train Loss: {loss:.3f} | Train Acc: {acc*100:>5.2f}% | Val Loss: {val_loss:.2f} | Val Acc: {val_acc*100:.2f}%')\n",
        "\n",
        "    @torch.no_grad()\n",
        "    def test(self, data):\n",
        "        self.eval()\n",
        "        out = self(data.x, data.edge_index)\n",
        "        acc = accuracy(out.argmax(dim=1)[data.test_mask], data.y[data.test_mask])\n",
        "        return acc"
      ],
      "metadata": {
        "id": "ek1VuoExnaGp"
      },
      "execution_count": 19,
      "outputs": []
    },
    {
      "cell_type": "code",
      "source": [
        "# GAT\n",
        "gat = GAT(dataset.num_features, 32, dataset.num_classes)\n",
        "print(gat)\n",
        "gat.fit(data, epochs=100)\n",
        "acc = gat.test(data)\n",
        "print(f'GAT test accuracy: {acc*100:.2f}%')"
      ],
      "metadata": {
        "colab": {
          "base_uri": "https://localhost:8080/"
        },
        "id": "2lApV2cq0TWb",
        "outputId": "f77aeb50-612a-417f-dbc2-7427aeb88247"
      },
      "execution_count": 20,
      "outputs": [
        {
          "output_type": "stream",
          "name": "stdout",
          "text": [
            "GAT(\n",
            "  (gat1): GATv2Conv(1433, 32, heads=8)\n",
            "  (gat2): GATv2Conv(256, 7, heads=1)\n",
            ")\n",
            "Epoch   0 | Train Loss: 1.971 | Train Acc: 20.00% | Val Loss: 1.96 | Val Acc: 15.60%\n",
            "Epoch  20 | Train Loss: 0.211 | Train Acc: 99.29% | Val Loss: 0.94 | Val Acc: 70.60%\n",
            "Epoch  40 | Train Loss: 0.180 | Train Acc: 98.57% | Val Loss: 0.83 | Val Acc: 72.60%\n",
            "Epoch  60 | Train Loss: 0.171 | Train Acc: 99.29% | Val Loss: 0.93 | Val Acc: 73.00%\n",
            "Epoch  80 | Train Loss: 0.164 | Train Acc: 99.29% | Val Loss: 0.92 | Val Acc: 73.40%\n",
            "Epoch 100 | Train Loss: 0.170 | Train Acc: 97.86% | Val Loss: 0.91 | Val Acc: 74.00%\n",
            "GAT test accuracy: 81.30%\n"
          ]
        }
      ]
    },
    {
      "cell_type": "code",
      "source": [],
      "metadata": {
        "id": "7Bkw6pIw65_e"
      },
      "execution_count": 20,
      "outputs": []
    }
  ]
}